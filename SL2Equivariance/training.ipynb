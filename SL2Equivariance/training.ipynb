{
 "cells": [
  {
   "cell_type": "code",
   "execution_count": 9,
   "metadata": {
    "collapsed": true,
    "pycharm": {
     "is_executing": false
    }
   },
   "outputs": [],
   "source": [
    "import torch\n",
    "import torch.nn as nn\n",
    "import torch.nn.functional as F\n",
    "torch.cuda.current_device()\n",
    "import torchvision\n",
    "import torchvision.transforms as transforms\n",
    "from torch.utils.data.sampler import SubsetRandomSampler\n",
    "import time\n",
    "import os\n",
    "import logging\n",
    "import numpy as np\n",
    "from my_layers import LatticeLocalSL2, GroupLocalSL2, GroupMaxPool, GroupReLU\n",
    "logging.basicConfig(level=logging.INFO, filename='MNIST_test.log', \n",
    "                    format='%(asctime)s:%(name)s:%(levelname)s:%(message)s')\n",
    "\n",
    "device = torch.device(\"cuda:0\" if torch.cuda.is_available() else \"cpu\")\n"
   ]
  },
  {
   "cell_type": "code",
   "execution_count": 10,
   "outputs": [],
   "source": [
    "indices = list(range(60_000))\n",
    "# np.random.shuffle(indices)\n",
    "train_indices = indices[:50_000]\n",
    "valid_indices = indices[50_000:]\n"
   ],
   "metadata": {
    "collapsed": false,
    "pycharm": {
     "name": "#%%\n",
     "is_executing": false
    }
   }
  },
  {
   "cell_type": "code",
   "execution_count": 11,
   "outputs": [],
   "source": [
    "transformation = transforms.Compose([\n",
    "        transforms.ToTensor(),\n",
    "        transforms.Normalize((0.1307,), (0.3081,))])\n",
    "\n",
    "train_sampler = SubsetRandomSampler(train_indices)\n",
    "valid_sampler = SubsetRandomSampler(valid_indices)\n",
    "\n",
    "train_set = torchvision.datasets.MNIST(root='./data', train=True,\n",
    "                                      download=True, transform=transformation)\n",
    "valid_set = torchvision.datasets.MNIST(root='./data', train=True,\n",
    "                                      download=True, transform=transformation)\n",
    "\n",
    "classes = ('0', '1', '2', '3',\n",
    "           '4', '5', '6', '7', '8', '9')\n",
    "NUM_CLASSES = 10"
   ],
   "metadata": {
    "collapsed": false,
    "pycharm": {
     "name": "#%%\n",
     "is_executing": false
    }
   }
  },
  {
   "cell_type": "code",
   "execution_count": 12,
   "outputs": [],
   "source": [
    "class DoubleMNIST(nn.Module):\n",
    "    def __init__(self, first_channels=32, second_channels=64, fc_channels=128):\n",
    "        super().__init__()\n",
    "        self.gconv1 = LatticeLocalSL2(1, first_channels, 5, 2, len_fun=\"len\", group='SL2', pad_type='partial')\n",
    "        self.gconv2 = GroupLocalSL2(first_channels, second_channels, 5, 2, len_fun=\"len\")\n",
    "        self.fc1 = nn.Linear(second_channels * 8 * 4 * 4, fc_channels)\n",
    "        self.fc2 = nn.Linear(fc_channels, 10)\n",
    "        self.pool = GroupMaxPool(2, 2)\n",
    "        self.grelu = GroupReLU()\n",
    "\n",
    "    def forward(self, x):\n",
    "        dict1, x = self.gconv1(x)\n",
    "        x = self.pool(self.grelu(x))\n",
    "        dict2, x = self.gconv2(x, dict1)\n",
    "        x = self.pool(self.grelu(x))\n",
    "        x = x.view(x.shape[0], -1)\n",
    "        x = F.relu(self.fc1(x))\n",
    "        x = self.fc2(x)\n",
    "        return x"
   ],
   "metadata": {
    "collapsed": false,
    "pycharm": {
     "name": "#%%\n",
     "is_executing": false
    }
   }
  },
  {
   "cell_type": "code",
   "execution_count": 13,
   "outputs": [],
   "source": [
    "import torch.optim as optim\n",
    "\n",
    "predict_criterion = nn.CrossEntropyLoss()"
   ],
   "metadata": {
    "collapsed": false,
    "pycharm": {
     "name": "#%%\n",
     "is_executing": false
    }
   }
  },
  {
   "cell_type": "code",
   "execution_count": 14,
   "outputs": [],
   "source": [
    "    \n",
    "def train(net):\n",
    "    learned_train_set = False\n",
    "    true_epoch = 0\n",
    "    total_time = 0\n",
    "    train_error_list = []\n",
    "    test_error_list = []\n",
    "    testloader = torch.utils.data.DataLoader(valid_set, batch_size=128, sampler=valid_sampler,\n",
    "                                         shuffle=False, num_workers=2, pin_memory=False)\n",
    "    trainloader = torch.utils.data.DataLoader(train_set, batch_size=20, sampler=train_sampler,\n",
    "                                          shuffle=False, num_workers=2, pin_memory=True)\n",
    "    optimizer = optim.SGD(net.parameters(), lr=0.01, momentum=0.5)\n",
    "    for epoch in range(30):  # loop over the dataset multiple times\n",
    "        start_time = time.time()\n",
    "        true_epoch += 1\n",
    "        running_loss = 0.0\n",
    "        true_train_total = 0.0\n",
    "        correct_train_total = 0.0\n",
    "        correct_train = 0.0\n",
    "        total_train = 0.0\n",
    "        for i, data in enumerate(trainloader, 0):\n",
    "            # get the inputs\n",
    "            inputs, labels = data\n",
    "            inputs, labels = inputs.to(device), labels.to(device)\n",
    "            # zero the parameter gradients\n",
    "            optimizer.zero_grad()\n",
    "    \n",
    "            # forward + backward + optimize\n",
    "            outputs = net(inputs)\n",
    "            loss = predict_criterion(outputs, labels)\n",
    "            \n",
    "            _, predicted = torch.max(outputs.data, 1)\n",
    "            total_train += labels.size(0)\n",
    "            true_train_total += labels.size(0)\n",
    "            correct_train += (predicted == labels).sum().item()\n",
    "            correct_train_total += (predicted == labels).sum().item()\n",
    "            \n",
    "            loss.backward()\n",
    "            optimizer.step()        \n",
    "    \n",
    "            # print statistics\n",
    "            running_loss += loss.item()\n",
    "            if i % 500 == 499:  # print every 100 mini-batches\n",
    "                print(f'[{true_epoch}, {i + 1}] loss: {running_loss / 100:.4f}, Correct Rate: {100 * correct_train / total_train:.2f}%, Cumulative time: {time.time() - start_time}s')\n",
    "                running_loss = 0.0\n",
    "                correct_train = 0.0\n",
    "                total_train = 0.0\n",
    "        train_error_list.append(100*correct_train_total / true_train_total) \n",
    "        print(f\"Correctness on training epoch {true_epoch}: {100*correct_train_total / true_train_total:.2f}%\")\n",
    "        logging.info(f\"Correctness on training epoch {true_epoch}: {100*correct_train_total / true_train_total:.2f}%\")\n",
    "        correct = 0\n",
    "        total = 0\n",
    "        with torch.no_grad():\n",
    "            for data in testloader:\n",
    "                images, labels = data\n",
    "                images, labels = images.to(device), labels.to(device)\n",
    "                outputs = net(images)\n",
    "                _, predicted = torch.max(outputs.data, 1)\n",
    "                total += labels.size(0)\n",
    "                correct += (predicted == labels).sum().item()\n",
    "            test_error_list.append(100 * correct / total)\n",
    "        print(f'Accuracy of the network on the 10000 test images for epoch {true_epoch}: {100 * correct / total:.2f}%')\n",
    "        logging.info(f'Accuracy of the network on the 10000 test images for epoch {true_epoch}: {100 * correct / total:.2f}%')\n",
    "        total_time += time.time() - start_time\n",
    "        print(f'Finished epoch {true_epoch}, cumulative time: {total_time}s')\n",
    "        if correct_train_total == true_train_total:\n",
    "            if not learned_train_set:\n",
    "                learned_train_set = True\n",
    "            else:\n",
    "                break\n",
    "    print(\"Finished\")\n",
    "    logging.info(\"Finished Training\")"
   ],
   "metadata": {
    "collapsed": false,
    "pycharm": {
     "name": "#%%\n",
     "is_executing": false
    }
   }
  },
  {
   "cell_type": "code",
   "execution_count": 15,
   "outputs": [],
   "source": [
    "logging.info(\"------------------------Beginning Test---------------------\")\n",
    "for i in range(6):\n",
    "    print(f'Starting test {i+1}')\n",
    "    logging.info(f'Starting test {i+1}')\n",
    "    net = DoubleMNIST(9,32,128)\n",
    "    net.to(device)\n",
    "    net.gconv1.flat_indices = net.gconv1.flat_indices.to(device)\n",
    "    logging.info(repr(net))\n",
    "    train(net)\n",
    "logging.info(\"------------------------Ending Test---------------------\")"
   ],
   "metadata": {
    "collapsed": false,
    "pycharm": {
     "name": "#%%\n",
     "is_executing": false
    }
   }
  },
  {
   "cell_type": "code",
   "execution_count": null,
   "outputs": [],
   "source": [
    "\n"
   ],
   "metadata": {
    "collapsed": false,
    "pycharm": {
     "name": "#%%\n",
     "is_executing": false
    }
   }
  }
 ],
 "metadata": {
  "language_info": {
   "codemirror_mode": {
    "name": "ipython",
    "version": 2
   },
   "file_extension": ".py",
   "mimetype": "text/x-python",
   "name": "python",
   "nbconvert_exporter": "python",
   "pygments_lexer": "ipython2",
   "version": "2.7.6"
  },
  "kernelspec": {
   "name": "python3",
   "language": "python",
   "display_name": "Python 3"
  },
  "pycharm": {
   "stem_cell": {
    "cell_type": "raw",
    "source": [],
    "metadata": {
     "collapsed": false
    }
   }
  }
 },
 "nbformat": 4,
 "nbformat_minor": 0
}